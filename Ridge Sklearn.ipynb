{
 "cells": [
  {
   "cell_type": "code",
   "execution_count": 1,
   "metadata": {},
   "outputs": [
    {
     "name": "stderr",
     "output_type": "stream",
     "text": [
      "/home/sravanthi/anaconda3/lib/python3.6/site-packages/sklearn/cross_validation.py:41: DeprecationWarning: This module was deprecated in version 0.18 in favor of the model_selection module into which all the refactored classes and functions are moved. Also note that the interface of the new CV iterators are different from that of this module. This module will be removed in 0.20.\n",
      "  \"This module will be removed in 0.20.\", DeprecationWarning)\n"
     ]
    }
   ],
   "source": [
    "from sklearn.kernel_ridge import KernelRidge\n",
    "from sklearn.cross_validation import KFold\n",
    "from sklearn.svm import LinearSVC\n",
    "from sklearn.cross_validation import cross_val_score\n",
    "import numpy as np\n",
    "import scipy.io as sio\n",
    "from sklearn.linear_model import LogisticRegression\n",
    "from sklearn.cross_validation import train_test_split\n",
    "from sklearn.metrics import accuracy_score\n",
    "from sklearn.metrics import roc_auc_score\n",
    "from sklearn import cross_validation \n",
    "from sklearn.cross_validation import train_test_split\n",
    "from sklearn.cross_validation import KFold\n",
    "import pylab as pl\n",
    "import pandas as pd\n",
    "from csv import reader\n",
    "import csv\n",
    "from sklearn import metrics\n",
    "import matplotlib.pyplot as plt\n",
    "from sklearn.metrics import accuracy_score\n",
    "from sklearn.metrics import confusion_matrix\n",
    "from matplotlib.colors import ListedColormap\n",
    "from numpy import random\n",
    "from sklearn.model_selection import GridSearchCV\n",
    "\n",
    "XMat = pd.read_csv('predictors.csv')\n",
    "X = XMat.as_matrix()\n",
    "YMat= pd.read_csv('response.csv')\n",
    "Y= YMat.as_matrix()\n",
    "X_train, X_test, y_train, y_test = train_test_split(\n",
    "    X, Y,test_size=0.3, random_state=0)"
   ]
  },
  {
   "cell_type": "code",
   "execution_count": 3,
   "metadata": {},
   "outputs": [
    {
     "name": "stdout",
     "output_type": "stream",
     "text": [
      "THis is Linear Kernel\n",
      "Best score for data: 0.508847122751\n",
      "Best alpha: 0.5\n",
      "Best Kernel: linear\n",
      "RMean squared error: 2.25\n"
     ]
    }
   ],
   "source": [
    "kr1 = GridSearchCV(KernelRidge(kernel='linear'), cv=5,\n",
    "                  param_grid={\"alpha\": [1e0, 0.1, 1e-2, 1e-3, 0.5, 2,3,5]})\n",
    "kr1.fit(X_train, y_train)\n",
    "y_kr1 = kr1.predict(X_test)\n",
    "print(\"THis is Linear Kernel\")\n",
    "print('Best score for data:', kr1.best_score_) \n",
    "print('Best alpha:',kr1.best_estimator_.alpha) \n",
    "print('Best Kernel:',kr1.best_estimator_.kernel)\n",
    "print(\"RMean squared error: %.2f\" % np.sqrt(np.mean((y_kr1 - y_test) ** 2)))\n",
    "\n"
   ]
  },
  {
   "cell_type": "code",
   "execution_count": 2,
   "metadata": {},
   "outputs": [
    {
     "name": "stdout",
     "output_type": "stream",
     "text": [
      "This is Polynomial Kernel\n",
      "Best score for data: 0.558758739947\n",
      "Best alpha: 1.0\n",
      "Best Kernel: polynomial\n",
      "Best Gamma: 3\n",
      "Best degree: 2\n",
      "RMean squared error: 2.11\n"
     ]
    }
   ],
   "source": [
    "kr2 = GridSearchCV(KernelRidge(kernel='polynomial',degree=2), cv=5,\n",
    "                  param_grid={\"alpha\": [1e0, 0.1, 1e-2, 1e-3, 0.5, 2,3,5],\n",
    "                              \"gamma\": [0.001,0.0001,0.01,0.1,1,0.5,2,3]})\n",
    "kr2.fit(X_train, y_train)\n",
    "y_kr2 = kr2.predict(X_test)\n",
    "print(\"This is Polynomial Kernel\")\n",
    "print('Best score for data:', kr2.best_score_) \n",
    "print('Best alpha:',kr2.best_estimator_.alpha) \n",
    "print('Best Kernel:',kr2.best_estimator_.kernel)\n",
    "print('Best Gamma:',kr2.best_estimator_.gamma)\n",
    "print('Best degree:',kr2.best_estimator_.degree)\n",
    "print(\"RMean squared error: %.2f\" % np.sqrt(np.mean((y_kr2 - y_test) ** 2)))\n"
   ]
  },
  {
   "cell_type": "code",
   "execution_count": 6,
   "metadata": {
    "scrolled": true
   },
   "outputs": [
    {
     "name": "stdout",
     "output_type": "stream",
     "text": [
      "THis is Gaussian Kernel\n",
      "Best score for data: 0.575853762128\n",
      "Best alpha: 0.01\n",
      "Best Kernel: rbf\n",
      "Best Gamma: 2\n",
      "RMean squared error: 2.09\n"
     ]
    }
   ],
   "source": [
    "kr3 = GridSearchCV(KernelRidge(kernel='rbf'), cv=5,\n",
    "                  param_grid={\"alpha\": [1e0, 0.1, 1e-2, 1e-3, 0.5, 2,3,5],\n",
    "                              \"gamma\": [0.001,0.0001,0.01,0.1,1,0.5,2,3]})\n",
    "kr3.fit(X_train, y_train)\n",
    "y_kr3 = kr3.predict(X_test)\n",
    "print(\"THis is Gaussian Kernel\")\n",
    "print('Best score for data:', kr3.best_score_) \n",
    "print('Best alpha:',kr3.best_estimator_.alpha) \n",
    "print('Best Kernel:',kr3.best_estimator_.kernel)\n",
    "print('Best Gamma:',kr3.best_estimator_.gamma)\n",
    "print(\"RMean squared error: %.2f\" % np.sqrt(np.mean((y_kr3 - y_test) ** 2)))\n"
   ]
  },
  {
   "cell_type": "code",
   "execution_count": null,
   "metadata": {
    "collapsed": true
   },
   "outputs": [],
   "source": []
  }
 ],
 "metadata": {
  "kernelspec": {
   "display_name": "Python 3",
   "language": "python",
   "name": "python3"
  },
  "language_info": {
   "codemirror_mode": {
    "name": "ipython",
    "version": 3
   },
   "file_extension": ".py",
   "mimetype": "text/x-python",
   "name": "python",
   "nbconvert_exporter": "python",
   "pygments_lexer": "ipython3",
   "version": "3.6.2"
  }
 },
 "nbformat": 4,
 "nbformat_minor": 2
}
