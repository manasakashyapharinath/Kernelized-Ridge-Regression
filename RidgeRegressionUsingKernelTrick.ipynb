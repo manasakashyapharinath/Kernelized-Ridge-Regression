{
 "cells": [
  {
   "cell_type": "markdown",
   "metadata": {},
   "source": [
    "<h1>Kernelized Ridge Regression using Linear, Polynomial and Gaussian kernels</h1>"
   ]
  },
  {
   "cell_type": "code",
   "execution_count": 853,
   "metadata": {},
   "outputs": [],
   "source": [
    "from sklearn.model_selection import KFold\n",
    "import pandas as pd\n",
    "from csv import reader\n",
    "import csv\n",
    "from sklearn.metrics import accuracy_score\n",
    "import numpy as np\n",
    "from sklearn.cross_validation import train_test_split\n",
    "from sklearn.model_selection import KFold, cross_val_score\n",
    "import matplotlib.pyplot as plt\n",
    "from sklearn.metrics import confusion_matrix, accuracy_score\n",
    "from sklearn.metrics import mean_squared_error\n",
    "from scipy.spatial.distance import pdist,squareform\n",
    "from scipy import exp\n",
    "from math import sqrt"
   ]
  },
  {
   "cell_type": "markdown",
   "metadata": {},
   "source": [
    "Loading the data set\n",
    "\n",
    "For our implementation, we have split the dataset set into two CSV files:\n",
    "\n",
    "1) predictors.csv - contains all the predictor variables (each column represents single predictor variable).   Currently, we are considering 7 predictor varibles\n",
    "\n",
    "2) response.csv - contains only response variables."
   ]
  },
  {
   "cell_type": "code",
   "execution_count": 854,
   "metadata": {},
   "outputs": [
    {
     "name": "stdout",
     "output_type": "stream",
     "text": [
      "(1000, 1)\n"
     ]
    }
   ],
   "source": [
    "XMat = pd.read_csv('predictors.csv')\n",
    "XmatrixInti = XMat.as_matrix()\n",
    "\n",
    "'''We have consiered then convert thus obtained data matrix into Dataframes using pandas library '''\n",
    "X = pd.DataFrame(XmatrixInti)\n",
    "X=X[:1000]\n",
    "\n",
    "Y= pd.read_csv('response.csv')\n",
    "Y=Y[:1000]\n",
    "print(Y.shape)"
   ]
  },
  {
   "cell_type": "markdown",
   "metadata": {},
   "source": [
    "<h3> Unit Testing using Trivial Data</h3>\n",
    "\n",
    "The data below is our sample trivial data for the unit testing of our implementation. The sample data is the part of Abalone dataset. The first 200 data samples are considered as the training set and data samples from 100 to 300 are reserved for testing. Also, we consider only one attribute from the predictors (X dataset)."
   ]
  },
  {
   "cell_type": "code",
   "execution_count": 855,
   "metadata": {},
   "outputs": [
    {
     "data": {
      "text/plain": [
       "(200, 1)"
      ]
     },
     "execution_count": 855,
     "metadata": {},
     "output_type": "execute_result"
    }
   ],
   "source": [
    "\n",
    "trivial_x_train=X[0:200]\n",
    "trivial_x_train=trivial_x_train[4]\n",
    "trivial_x_train=pd.DataFrame(trivial_x_train)\n",
    "trivial_y_train=Y[0:200]\n",
    "\n",
    "\n",
    "trivial_x_test=X[100:300]\n",
    "trivial_x_test=trivial_x_test[4]\n",
    "trivial_x_test=pd.DataFrame(trivial_x_test)\n",
    "trivial_y_test=Y[100:300]\n",
    "\n",
    "\n",
    "trivial_y_test.shape"
   ]
  },
  {
   "cell_type": "markdown",
   "metadata": {},
   "source": [
    "\n",
    "Plotting the graph for trivial dataset. This is done for all the kernel implementations. Please note that the hyperparameters selected for unit testing are the best parameters we obtained for the best model for our dataset"
   ]
  },
  {
   "cell_type": "code",
   "execution_count": 856,
   "metadata": {},
   "outputs": [],
   "source": [
    "def plotGraph(trivial_x_train,trivial_y_train,trivial_x_test,y_pred,kernal_type):\n",
    "    plt.scatter(np.squeeze(np.asarray(trivial_x_train)),np.squeeze(np.asarray(trivial_y_train)))\n",
    "    plt.plot(np.squeeze(np.asarray(trivial_x_test)),np.squeeze(np.asarray(y_pred)),'r-')\n",
    "    plt.xlabel('Whole weight')\n",
    "    plt.ylabel('Predicted no of rings')\n",
    "    if(kernal_type=='Linear'):\n",
    "        plt.title('Linear Kernel')\n",
    "    if(kernal_type=='Polynomial'):\n",
    "        plt.title('Polynomial Kernel')\n",
    "    if(kernal_type=='Gaussian'):\n",
    "        plt.title('Gaussian Kernel')\n",
    "    plt.show()"
   ]
  },
  {
   "cell_type": "markdown",
   "metadata": {},
   "source": [
    "<h3>Linear Kernel</h3>\n",
    "\n",
    "Ridge regression using Linear Kernel implementation is done on the trivial data and results are visualized graphically. The performance of the same is recorded- The RMSE is 4.63"
   ]
  },
  {
   "cell_type": "code",
   "execution_count": 857,
   "metadata": {},
   "outputs": [],
   "source": [
    "def plotLinearKernelGraph(trivial_x_train,trivial_y_train,trivial_x_test,trivial_y_test):\n",
    "    betaLinearKernel=computeLinearKernel(trivial_x_train,trivial_y_train,0.5)\n",
    "    y_predLin=predictWithLinearKernel(trivial_x_test,trivial_y_test,betaLinearKernel,trivial_x_train)\n",
    "    plotGraph(trivial_x_train,trivial_y_train,trivial_x_test,y_predLin,'Linear')\n",
    "    rms = sqrt(mean_squared_error(trivial_y_test, y_predLin))\n",
    "    print 'RMSE for Linear Kernel with trivial data:',rms\n",
    "    "
   ]
  },
  {
   "cell_type": "code",
   "execution_count": 858,
   "metadata": {},
   "outputs": [
    {
     "data": {
      "image/png": "[encoded data removed]",
      "text/plain": [
       "<matplotlib.figure.Figure at 0x7f89a63d40d0>"
      ]
     },
     "metadata": {},
     "output_type": "display_data"
    },
    {
     "name": "stdout",
     "output_type": "stream",
     "text": [
      "RMSE for Linear Kernel with trivial data: 4.62888164632\n"
     ]
    }
   ],
   "source": [
    "plotLinearKernelGraph(trivial_x_train,trivial_y_train,trivial_x_test,trivial_y_test)"
   ]
  },
  {
   "cell_type": "markdown",
   "metadata": {},
   "source": [
    "<h3>Polynomial Kernel</h3>\n",
    "\n",
    "Ridge regression using Polynomial Kernel implementation is done on the trivial data and results are visualized graphically. The performance of the same is recorded- The RMSE is 2.678"
   ]
  },
  {
   "cell_type": "code",
   "execution_count": 859,
   "metadata": {},
   "outputs": [],
   "source": [
    "def plotPolynomialKernelGraph(trivial_x_train,trivial_y_train,trivial_x_test,trivial_y_test):\n",
    "    betaPolynomialKernel=computePolynomianKernel(trivial_x_train,trivial_y_train,1,0.01,2)\n",
    "    y_predPoly=predictWithPolynomialKernel(trivial_x_test,trivial_y_test,betaPolynomialKernel,trivial_x_train,1)\n",
    "    plotGraph(trivial_x_train,trivial_y_train,trivial_x_test,y_predPoly,'Polynomial')\n",
    "    rms = sqrt(mean_squared_error(trivial_y_test, y_predPoly))\n",
    "    print 'RMSE for Polynomial Kernel with trivial data:',rms"
   ]
  },
  {
   "cell_type": "code",
   "execution_count": 860,
   "metadata": {},
   "outputs": [
    {
     "data": {
      "image/png": "[encoded data removed]",
      "text/plain": [
       "<matplotlib.figure.Figure at 0x7f89a39bc510>"
      ]
     },
     "metadata": {},
     "output_type": "display_data"
    },
    {
     "name": "stdout",
     "output_type": "stream",
     "text": [
      "RMSE for Polynomial Kernel with trivial data: 2.67732192971\n"
     ]
    }
   ],
   "source": [
    "plotPolynomialKernelGraph(trivial_x_train,trivial_y_train,trivial_x_test,trivial_y_test)"
   ]
  },
  {
   "cell_type": "markdown",
   "metadata": {},
   "source": [
    "<h3>Gaussian Kernel</h3>\n",
    "\n",
    "Ridge regression using Gaussian Kernel implementation is done on the trivial data and results are visualized graphically. The performance of the same is recorded- The RMSE is 2.683"
   ]
  },
  {
   "cell_type": "code",
   "execution_count": 861,
   "metadata": {},
   "outputs": [],
   "source": [
    "def plotGaussianKernelGraph(trivial_x_train,trivial_y_train,trivial_x_test,trivial_y_test):\n",
    "    betaGaussianKernel=computeGuassianKernel(trivial_x_train,trivial_y_train,0.01,0.5)\n",
    "    y_predGauss=predictUsingGaussianKernel(trivial_x_test,trivial_y_test,betaGaussianKernel,trivial_x_train,0.5)\n",
    "    plotGraph(trivial_x_train,trivial_y_train,trivial_x_test,y_predGauss,'Gaussian')\n",
    "    rms = sqrt(mean_squared_error(trivial_y_test, y_predGauss))\n",
    "    print 'RMSE for Gaussian Kernel with trivial data:',rms"
   ]
  },
  {
   "cell_type": "code",
   "execution_count": 862,
   "metadata": {},
   "outputs": [
    {
     "data": {
      "image/png": "[encoded data removed]",
      "text/plain": [
       "<matplotlib.figure.Figure at 0x7f89a5fad5d0>"
      ]
     },
     "metadata": {},
     "output_type": "display_data"
    },
    {
     "name": "stdout",
     "output_type": "stream",
     "text": [
      "RMSE for Gaussian Kernel with trivial data: 2.68333265294\n"
     ]
    }
   ],
   "source": [
    "plotGaussianKernelGraph(trivial_x_train,trivial_y_train,trivial_x_test,trivial_y_test)"
   ]
  },
  {
   "cell_type": "markdown",
   "metadata": {},
   "source": [
    "We split the dataset into training(60%) and testing(40%) using train_test_split."
   ]
  },
  {
   "cell_type": "code",
   "execution_count": 863,
   "metadata": {},
   "outputs": [
    {
     "data": {
      "text/plain": [
       "(600, 7)"
      ]
     },
     "execution_count": 863,
     "metadata": {},
     "output_type": "execute_result"
    }
   ],
   "source": [
    "X_train, X_test, y_train, y_test = train_test_split(X, Y, test_size= 0.4, random_state = 42)\n",
    "X_train.shape"
   ]
  },
  {
   "cell_type": "code",
   "execution_count": 864,
   "metadata": {},
   "outputs": [],
   "source": [
    "A = np.squeeze(np.asarray(X_train))\n",
    "B = np.squeeze(np.asarray(X_train))\n",
    "m=len(A)\n",
    "W_kernel=np.zeros((m,m))\n",
    "for i in range(len(A)):\n",
    "    for j in range(len(B)):\n",
    "        W_kernel[i][j]=(sum(A[i]*B[j]))\n",
    "    \n",
    "\n"
   ]
  },
  {
   "cell_type": "markdown",
   "metadata": {},
   "source": [
    "<h3>Computation of linear kernel</h3>\n",
    "\n",
    "Formula for ridge regression: y(x) = (K(x)^T) ((K + Lambda * I) * t)\n",
    "\n",
    "Linear Kernel is given by, K = x * x' -> dot product of two vectors\n",
    "\n",
    "First term: (K(x)^T) - This is the dot product of X_train and X_test.\n",
    "\n",
    "Gram matrix: The kernel (K) in the second term is termed as Gram Matrix. For computation of gram matrix, we consider the dot product of the input vectors (X_train * X_train.T).\n",
    "\n",
    "Lambda: is a scalar hyper parameter. This is multiplied by the identity matrix whose shape is same as the gram matrix.\n",
    "\n",
    "Then, we compute the sum of Gram Matrix and Lamda which is then multiplied with the response matrix (Y_train). This becomes our linear regression model.\n",
    "\n"
   ]
  },
  {
   "cell_type": "code",
   "execution_count": 865,
   "metadata": {},
   "outputs": [],
   "source": [
    "def computeLinearKernel(X_train, y_train,lamda):\n",
    "    \n",
    "    m,n=y_train.shape\n",
    "    betaLinearKernel=np.zeros((m,n))\n",
    "    I=(np.identity(m))\n",
    "    betaLinearKernel=np.dot(np.linalg.pinv(np.dot(X_train,np.transpose(X_train))+(lamda*I)),y_train)\n",
    "    return betaLinearKernel\n",
    "    "
   ]
  },
  {
   "cell_type": "code",
   "execution_count": 866,
   "metadata": {
    "scrolled": true
   },
   "outputs": [],
   "source": [
    "\n",
    "betaLinearKernel=computeLinearKernel(X_train,y_train,0.1)\n"
   ]
  },
  {
   "cell_type": "markdown",
   "metadata": {},
   "source": [
    "<h3>Prediction</h3>\n",
    "\n",
    "Now, for the prediction, we take the dot product of first kernel and our linear regression model. This is the array of predicted values"
   ]
  },
  {
   "cell_type": "code",
   "execution_count": 867,
   "metadata": {},
   "outputs": [],
   "source": [
    "def predictWithLinearKernel(X_test,y_test,betaLinearKernel,X_train):\n",
    "    \n",
    "    \n",
    "    m,n=X_test.as_matrix().shape\n",
    "    X_test_1=X_test.as_matrix()\n",
    "    X_train_1=X_train.as_matrix()\n",
    "    y_pred= np.dot((np.dot(X_test,np.transpose(X_train))),betaLinearKernel)\n",
    "    return y_pred\n",
    "    \n",
    "   "
   ]
  },
  {
   "cell_type": "code",
   "execution_count": 868,
   "metadata": {},
   "outputs": [],
   "source": [
    "y_pred=predictWithLinearKernel(X_test,y_test,betaLinearKernel,X_train)"
   ]
  },
  {
   "cell_type": "markdown",
   "metadata": {},
   "source": [
    "Calculation of RMSE measure: "
   ]
  },
  {
   "cell_type": "code",
   "execution_count": 869,
   "metadata": {},
   "outputs": [],
   "source": [
    "rms = sqrt(mean_squared_error(y_test, y_pred))"
   ]
  },
  {
   "cell_type": "code",
   "execution_count": 870,
   "metadata": {},
   "outputs": [
    {
     "name": "stdout",
     "output_type": "stream",
     "text": [
      "2.69733425162\n"
     ]
    }
   ],
   "source": [
    "print rms"
   ]
  },
  {
   "cell_type": "markdown",
   "metadata": {},
   "source": [
    "<h3> Computation of Polynomial Kernel</h3>\n",
    "\n",
    "Polynomial Kernel is given by, K = (gamma *  ( x * x') + R)^M \n",
    "\n",
    "Polynomial Kernel: (gamma * (x * x') + R)^M-  where, x is the X_train vector matrix and x' is the X_test vector matrix.\n",
    "\n",
    "Gram matrix: The kernel (K) in the second term is termed as Gram Matrix. For computation of gram matrix, we consider the dot product of the input vectors (gamma * ( X_train * X_train.T) + R ) ^ M). \n",
    "\n",
    "Gamma: This is the scalar hyper parameter\n",
    "\n",
    "R - This is hyperparameter vector matrix whose shape is same as that of the gram matrix.\n",
    "\n",
    "Lambda: is a scalar hyper parameter. This is multiplied by the identity matrix whose shape is same as the gram matrix.\n",
    "\n",
    "M- Power of the gram matrix.\n",
    "\n",
    "Then, we compute the sum of Gram Matrix and Lamda which is then multiplied with the response matrix (Y_train). This becomes our Polynomial regression model."
   ]
  },
  {
   "cell_type": "code",
   "execution_count": 871,
   "metadata": {},
   "outputs": [],
   "source": [
    "def computePolynomianKernel(X_train,y_train,gamma,lamda,power):\n",
    "    m,n=y_train.shape\n",
    "    \n",
    "    betaPolynomialKernel=np.zeros((m,n))\n",
    "    I=(np.identity(m))\n",
    "    R=np.ones((m,m))\n",
    "    dotProd=np.dot(X_train,np.transpose(X_train))\n",
    "    gammaProd=gamma*dotProd\n",
    "    RGamma=gammaProd+R\n",
    "    RGammaSquared=RGamma**power\n",
    "    lamdaI=lamda*I\n",
    "    RGammaSquaredPlus=RGammaSquared+lamdaI\n",
    "    InVprod=np.linalg.pinv(RGammaSquaredPlus)\n",
    "    betaPolynomialKernel=np.dot(InVprod,y_train)\n",
    "    return betaPolynomialKernel\n",
    "\n",
    "    \n"
   ]
  },
  {
   "cell_type": "code",
   "execution_count": 872,
   "metadata": {},
   "outputs": [],
   "source": [
    "betaPolynomialKernel=computePolynomianKernel(X_train, y_train,0.1,0.1,2)"
   ]
  },
  {
   "cell_type": "markdown",
   "metadata": {},
   "source": [
    "Now, for the prediction, we take the dot product of first kernel and our Polynomial regression model. This is the array of predicted values"
   ]
  },
  {
   "cell_type": "code",
   "execution_count": 873,
   "metadata": {},
   "outputs": [],
   "source": [
    "def predictWithPolynomialKernel(X_test,y_test,betaPolynomialKernel,X_train,gamma):\n",
    "    \n",
    "    \n",
    "    m,n=X_test.as_matrix().shape\n",
    "    X_test_1=X_test.as_matrix()\n",
    "    X_train_1=X_train.as_matrix()\n",
    "    dotProd=np.dot(X_test,np.transpose(X_train))\n",
    "    R=np.ones(dotProd.shape)\n",
    "    gammaProd=gamma*dotProd\n",
    "    RGamma=gammaProd+R\n",
    "    RGammaSquared=np.multiply(RGamma,RGamma)\n",
    "    y_pred= np.dot(RGammaSquared,betaPolynomialKernel)\n",
    "    return y_pred\n",
    "    "
   ]
  },
  {
   "cell_type": "code",
   "execution_count": 874,
   "metadata": {},
   "outputs": [],
   "source": [
    "y_pred=predictWithPolynomialKernel(X_test,y_test,betaPolynomialKernel,X_train,0.1)\n"
   ]
  },
  {
   "cell_type": "code",
   "execution_count": 875,
   "metadata": {},
   "outputs": [],
   "source": [
    "rms = sqrt(mean_squared_error(y_test, y_pred))"
   ]
  },
  {
   "cell_type": "code",
   "execution_count": 876,
   "metadata": {},
   "outputs": [
    {
     "data": {
      "text/plain": [
       "2.7345494054827597"
      ]
     },
     "execution_count": 876,
     "metadata": {},
     "output_type": "execute_result"
    }
   ],
   "source": [
    "rms"
   ]
  },
  {
   "cell_type": "code",
   "execution_count": 877,
   "metadata": {},
   "outputs": [
    {
     "data": {
      "text/plain": [
       "(600, 7)"
      ]
     },
     "execution_count": 877,
     "metadata": {},
     "output_type": "execute_result"
    }
   ],
   "source": [
    "X_train.shape"
   ]
  },
  {
   "cell_type": "code",
   "execution_count": 878,
   "metadata": {},
   "outputs": [
    {
     "data": {
      "text/plain": [
       "(400, 7)"
      ]
     },
     "execution_count": 878,
     "metadata": {},
     "output_type": "execute_result"
    }
   ],
   "source": [
    "X_test.shape"
   ]
  },
  {
   "cell_type": "markdown",
   "metadata": {},
   "source": [
    "<h3>Computation of Gaussian Kernel:</h3>\n",
    "\n",
    "Gaussian Kernel is given by, K(x,x') = exp( gamma * (-sum(x-x')))\n",
    "\n",
    "For Gram Matrix- Gaussian Kernel is computed with X_train being x and x' and gamma being a scalar hyper parameter.\n",
    "\n",
    "Lambda: is a scalar hyper parameter. This is multiplied by the identity matrix whose shape is same as the gram matrix.\n",
    "\n",
    "Then, we compute the sum of Gram Matrix and Lamda which is then multiplied with the response matrix (Y_train). This becomes our Gaussian regression model.\n"
   ]
  },
  {
   "cell_type": "code",
   "execution_count": 879,
   "metadata": {},
   "outputs": [],
   "source": [
    "def computeGuassianKernel(X_train,y_train,lamda,gamma):\n",
    " \n",
    "    sq_dists=pdist(X_train,'sqeuclidean')\n",
    "    m,n=X_train.shape\n",
    "    variance=np.var(sq_dists)\n",
    "    mat_sq_dists=squareform(sq_dists)\n",
    "    k=exp(-gamma*mat_sq_dists)\n",
    "    I=(np.identity(m))\n",
    "    betaGaussianKernel=np.dot(np.linalg.pinv(k+(lamda*I)),y_train)\n",
    "    return betaGaussianKernel"
   ]
  },
  {
   "cell_type": "code",
   "execution_count": 880,
   "metadata": {},
   "outputs": [],
   "source": [
    "\n",
    "betaGaussianKernel=computeGuassianKernel(X_train,y_train,0.1,1)"
   ]
  },
  {
   "cell_type": "code",
   "execution_count": 881,
   "metadata": {},
   "outputs": [],
   "source": [
    "def computeExp(x,z,gamma):\n",
    "    mat_sq_dists=np.sum((x-z)**2)\n",
    "    k=exp(-gamma*mat_sq_dists)\n",
    "    return k"
   ]
  },
  {
   "cell_type": "code",
   "execution_count": 882,
   "metadata": {},
   "outputs": [],
   "source": [
    "def computeKernelGaussian(X_train,y_train):\n",
    "    A = np.squeeze(np.asarray(X_train))\n",
    "    B = np.squeeze(np.asarray(X_train))\n",
    "    m=len(A)\n",
    "    gamma=1\n",
    "    W_kernel=np.zeros((m,m))\n",
    "    \n",
    "    for i in range(len(A)):\n",
    "        for j in range(len(B)):\n",
    "            W_kernel[i][j]=computeExp(A[i],B[j],gamma)\n",
    "    \n",
    "    print(W_kernel.shape)"
   ]
  },
  {
   "cell_type": "code",
   "execution_count": 883,
   "metadata": {},
   "outputs": [
    {
     "name": "stdout",
     "output_type": "stream",
     "text": [
      "(600, 600)\n"
     ]
    }
   ],
   "source": [
    "computeKernelGaussian(X_train,y_train)"
   ]
  },
  {
   "cell_type": "markdown",
   "metadata": {},
   "source": [
    "Now, for the prediction, we take the dot product of first kernel and our Polynomial regression model. This is the array of predicted values"
   ]
  },
  {
   "cell_type": "code",
   "execution_count": 884,
   "metadata": {},
   "outputs": [],
   "source": [
    "def predictUsingGaussianKernel(X_test,y_test,betaGaussianKernel,X_train,gamma):\n",
    "    \n",
    "    A = np.squeeze(np.asarray(X_test))\n",
    "    B = np.squeeze(np.asarray(X_train))\n",
    "    m=len(A)\n",
    "    n=len(B)\n",
    "    firstKernel=np.zeros((m,n))\n",
    "    \n",
    "    \n",
    "    for i in range(len(A)):\n",
    "        for j in range(len(B)):\n",
    "            firstKernel[i][j]=computeExp(A[i],B[j],gamma)\n",
    "    \n",
    "    y_pred=np.dot(firstKernel,betaGaussianKernel)\n",
    "    return y_pred"
   ]
  },
  {
   "cell_type": "code",
   "execution_count": 885,
   "metadata": {
    "scrolled": true
   },
   "outputs": [],
   "source": [
    "y_pred=predictUsingGaussianKernel(X_test,y_test,betaGaussianKernel,X_train,1)"
   ]
  },
  {
   "cell_type": "code",
   "execution_count": 886,
   "metadata": {},
   "outputs": [],
   "source": [
    "rms = sqrt(mean_squared_error(y_test, y_pred))"
   ]
  },
  {
   "cell_type": "code",
   "execution_count": 887,
   "metadata": {},
   "outputs": [
    {
     "data": {
      "text/plain": [
       "2.667218577329414"
      ]
     },
     "execution_count": 887,
     "metadata": {},
     "output_type": "execute_result"
    }
   ],
   "source": [
    "rms"
   ]
  },
  {
   "cell_type": "markdown",
   "metadata": {},
   "source": [
    "<h3>Computation of the Best Model</h3>\n",
    "\n",
    "Initialization of the Kfold"
   ]
  },
  {
   "cell_type": "code",
   "execution_count": 888,
   "metadata": {},
   "outputs": [],
   "source": [
    "kfl=KFold(n_splits=5, random_state=42, shuffle=True)"
   ]
  },
  {
   "cell_type": "markdown",
   "metadata": {},
   "source": [
    "The RMSE value is calculated for all the values of Lambda and the best model is returned"
   ]
  },
  {
   "cell_type": "code",
   "execution_count": 889,
   "metadata": {},
   "outputs": [],
   "source": [
    "def ComputeLinearKernelWithLamdaArray(X_train,y_train,y_test,X_test,lamdaArr):\n",
    "    betaLinearKernelArr=[]\n",
    "    rmseArr=[]\n",
    "    eachlamdaBestArr=[]\n",
    "    for lamdaIdx in range(len(lamdaArr)):\n",
    "        eachLamda=lamdaArr[lamdaIdx]\n",
    "        betaLinearKernel=computeLinearKernel(X_train,y_train,eachLamda)\n",
    "        betaLinearKernelArr.append(betaLinearKernel)\n",
    "        y_pred=predictWithLinearKernel(X_test,y_test,betaLinearKernel,X_train)\n",
    "        rmse = sqrt(mean_squared_error(y_test, y_pred))\n",
    "        rmseArr.append(rmse)\n",
    "        \n",
    "        eachlamdaBestArr.append(eachLamda)\n",
    "    bestLinearKernel= betaLinearKernelArr[rmseArr.index(np.amin(rmseArr))]\n",
    "    bestLamda=eachlamdaBestArr[rmseArr.index(np.amin(rmseArr))]\n",
    "    return bestLinearKernel,rmseArr[rmseArr.index(np.amin(rmseArr))],bestLamda\n",
    "           "
   ]
  },
  {
   "cell_type": "code",
   "execution_count": 890,
   "metadata": {},
   "outputs": [
    {
     "name": "stdout",
     "output_type": "stream",
     "text": [
      "3\n"
     ]
    }
   ],
   "source": [
    "lamdaArr=[0.1,1,10]\n",
    "gamma=[5,10,15]\n",
    "r=[2,4,6]\n",
    "\n",
    "print(len(lamdaArr))"
   ]
  },
  {
   "cell_type": "code",
   "execution_count": 891,
   "metadata": {},
   "outputs": [],
   "source": [
    "def calculatekfoldSplit(train, test, X_train,y_train):\n",
    "\n",
    "\tXtest_1 = []\n",
    "\tYtest_1 = []\n",
    "\tXtrain_1=[]\n",
    "\tYtrain_1 = []\n",
    "\tfor i in range(len(test)):\n",
    "\t\tXtest_1.append( X_train.as_matrix()[test[i]])\n",
    "\t\tYtest_1.append( y_train.as_matrix()[test[i]])\n",
    "\tXtest_1= pd.DataFrame(Xtest_1)\n",
    "\tYtest_1= pd.DataFrame(Ytest_1)\n",
    "\t\n",
    "\tfor i in range(len(train)):\n",
    "\t\tXtrain_1.append( X_train.as_matrix()[train[i]])\n",
    "\t\tYtrain_1.append( y_train.as_matrix()[train[i]])\n",
    "\tXtrain_1= pd.DataFrame(Xtrain_1)\n",
    "\tYtrain_1= pd.DataFrame(Ytrain_1)\n",
    "\t\n",
    "\t\n",
    "\treturn Xtest_1, Ytest_1, Xtrain_1, Ytrain_1\n"
   ]
  },
  {
   "cell_type": "markdown",
   "metadata": {},
   "source": [
    "The RMSE value is calculated for all the values of Lambda, gamma and power and the best model is returned"
   ]
  },
  {
   "cell_type": "code",
   "execution_count": 892,
   "metadata": {},
   "outputs": [],
   "source": [
    "def ComputePolynomialKernelWithParams(X_train,y_train,y_test,X_test,gammaArr,lamdaArr):\n",
    "    betaPolynomialKernelArr=[]\n",
    "    rmseArr=[]\n",
    "    eachGammaBestArr=[]\n",
    "    eachlamdaBestArr=[]\n",
    "    eachPowerArr=[]\n",
    "    powerArr=[1,2,3,4,5,6,7,8]\n",
    "    for i in range(len(gammaArr)):\n",
    "        for j in range(len(lamdaArr)):\n",
    "            for k in range(len(powerArr)):\n",
    "                eachGamma=gammaArr[i]\n",
    "                eachlamda=lamdaArr[j]\n",
    "                eachPower=powerArr[k]\n",
    "           \n",
    "                betaPolynomialKernel=computePolynomianKernel(X_train,y_train,eachGamma,eachlamda,eachPower)\n",
    "                betaPolynomialKernelArr.append(betaPolynomialKernel)\n",
    "                y_pred=predictWithPolynomialKernel(X_test,y_test,betaPolynomialKernel,X_train,eachGamma)\n",
    "                rmse = sqrt(mean_squared_error(y_test, y_pred))\n",
    "                rmseArr.append(rmse)\n",
    "            \n",
    "                eachGammaBestArr.append(eachGamma)\n",
    "                eachlamdaBestArr.append(eachlamda)\n",
    "                eachPowerArr.append(eachPower)\n",
    "    \n",
    "    betaPolynomialKernel= betaPolynomialKernelArr[rmseArr.index(np.amin(rmseArr))]\n",
    "    bestGamma=eachGammaBestArr[rmseArr.index(np.amin(rmseArr))]\n",
    "    bestLamda=eachlamdaBestArr[rmseArr.index(np.amin(rmseArr))]\n",
    "    bestPower=eachPowerArr[rmseArr.index(np.amin(rmseArr))]\n",
    "    return betaPolynomialKernel,rmseArr[rmseArr.index(np.amin(rmseArr))],bestGamma,bestLamda,bestPower\n",
    "            "
   ]
  },
  {
   "cell_type": "markdown",
   "metadata": {},
   "source": [
    "The RMSE value is calculated for all the values of Lambda and gamma and the best model is returned"
   ]
  },
  {
   "cell_type": "code",
   "execution_count": 893,
   "metadata": {},
   "outputs": [],
   "source": [
    "def ComputeGaussianKernelWithParams(X_train,y_train,y_test,X_test,gammaArr,lamdaArr):\n",
    "    betaGaussianKernelArr=[]\n",
    "    rmseArr=[]\n",
    "    eachGammaBestArr=[]\n",
    "    eachlamdaBestArr=[]\n",
    "    for i in range(len(gammaArr)):\n",
    "        for j in range(len(lamdaArr)):\n",
    "            eachGamma=gammaArr[i]\n",
    "            eachlamda=lamdaArr[j]\n",
    "            betaGuassianKernel=computeGuassianKernel(X_train,y_train,eachlamda,eachGamma)\n",
    "            betaGaussianKernelArr.append(betaGuassianKernel)\n",
    "            y_pred=predictUsingGaussianKernel(X_test,y_test,betaGuassianKernel,X_train,eachGamma)\n",
    "            rmse = sqrt(mean_squared_error(y_test, y_pred))\n",
    "            rmseArr.append(rmse)\n",
    "            eachGammaBestArr.append(eachGamma)\n",
    "            eachlamdaBestArr.append(eachlamda)\n",
    "           \n",
    "    betaGuassianKernel= betaGaussianKernelArr[rmseArr.index(np.amin(rmseArr))]\n",
    "    bestGamma=eachGammaBestArr[rmseArr.index(np.amin(rmseArr))]\n",
    "    bestLamda=eachlamdaBestArr[rmseArr.index(np.amin(rmseArr))]\n",
    "    return betaGuassianKernel,rmseArr[rmseArr.index(np.amin(rmseArr))],bestGamma,bestLamda"
   ]
  },
  {
   "cell_type": "markdown",
   "metadata": {},
   "source": [
    "Now that we have discussed all the Regression model using Linear, Polynomial and Gaussian Kernels, we still need to find the best kernel model considering various combination of the hyper parameters like lambda, Gamma and power( only in Polynomial). This needs to be done across 5 folds. Furthermore, the best model after 5 fold computation is then tested with the actual test data. Please note that this is done for the kernels implementations. Finally, the kernel model which performed better is considered as the best model for our dataset."
   ]
  },
  {
   "cell_type": "code",
   "execution_count": 894,
   "metadata": {},
   "outputs": [],
   "source": [
    "def ComputePerformanceUsingKFold(X,y,kfl):\n",
    "    lamdaArr=[1e0, 0.1, 1e-2, 1e-3, 0.5, 2,3,5]\n",
    "    gammaArr=[0.001,0.0001,0.01,0.1,1,0.5,2,3]\n",
    "    #powerPoly=[1,2,3,4,5]\n",
    "  \n",
    "    bestLinearRmseArr=[]\n",
    "    bestPolynomialRmseArr=[]\n",
    "    bestGaussianRmseArr=[]\n",
    "    \n",
    "    trainLinArr=[]\n",
    "    trainPolyArr=[]\n",
    "    trainGuassArr=[]\n",
    "    \n",
    "    bestLinearKernelArr=[]\n",
    "    bestPolynomialKernelArr=[]\n",
    "    bestGaussianKernelArr=[]\n",
    "    \n",
    "    bestLambdaArrLin=[]\n",
    "    bestLamdaArrPoly=[]\n",
    "    bestGammaArrPoly=[]\n",
    "    bestPowerArrPoly=[]\n",
    "    bestRArrPoly=[]\n",
    "    bestLambdaArrGuass=[]\n",
    "    bestGammaArrGuass=[]\n",
    "    \n",
    "    \n",
    "    \n",
    "    for train,test in kfl.split(X):\n",
    "        \n",
    "        X_test,y_test,X_train,y_train=calculatekfoldSplit(train, test, X,y)\n",
    "        \n",
    "        bestLinearKernel,bestLinearRmse,bestLamda_l=ComputeLinearKernelWithLamdaArray(X_train,y_train,y_test,X_test,lamdaArr)\n",
    "        bestLinearRmseArr.append(bestLinearRmse)\n",
    "        bestLinearKernelArr.append(bestLinearKernel)\n",
    "        trainLinArr.append(X_train)\n",
    "        bestLambdaArrLin.append(bestLamda_l)\n",
    "        \n",
    "        \n",
    "        bestPolynomialKernel,bestPolynomialRmse,bestGamma_p,bestLamda_p,bestPower_p=ComputePolynomialKernelWithParams(X_train,y_train,y_test,X_test,gammaArr,lamdaArr)\n",
    "        bestPolynomialRmseArr.append(bestPolynomialRmse)\n",
    "        bestPolynomialKernelArr.append(bestPolynomialKernel)\n",
    "        trainPolyArr.append(X_train)\n",
    "        bestLamdaArrPoly.append(bestLamda_p)\n",
    "        bestGammaArrPoly.append(bestGamma_p)\n",
    "        bestPowerArrPoly.append(bestPower_p)\n",
    "        \n",
    "        bestGaussianKernel,bestGaussianRmse,bestGamma_g,bestLamda_g=ComputeGaussianKernelWithParams(X_train,y_train,y_test,X_test,gammaArr,lamdaArr)\n",
    "        bestGaussianRmseArr.append(bestGaussianRmse)\n",
    "        bestGaussianKernelArr.append(bestGaussianKernel)\n",
    "        trainGuassArr.append(X_train)\n",
    "        bestLambdaArrGuass.append(bestLamda_g)\n",
    "        bestGammaArrGuass.append(bestGamma_g)\n",
    "        \n",
    "        \n",
    "        \n",
    "    bestLK= bestLinearKernelArr[bestLinearRmseArr.index(np.amin(bestLinearRmseArr))]\n",
    "    bestPK= bestPolynomialKernelArr[bestPolynomialRmseArr.index(np.amin(bestPolynomialRmseArr))]\n",
    "    bestGK= bestGaussianKernelArr[bestGaussianRmseArr.index(np.amin(bestGaussianRmseArr))]\n",
    "    \n",
    "    trainLinBest=trainLinArr[bestLinearRmseArr.index(np.amin(bestLinearRmseArr))]\n",
    "    trainPolyBest=trainPolyArr[bestPolynomialRmseArr.index(np.amin(bestPolynomialRmseArr))]\n",
    "    trainGuassBest=trainGuassArr[bestGaussianRmseArr.index(np.amin(bestGaussianRmseArr))]\n",
    "    \n",
    "    bestLamda_l=bestLambdaArrLin[bestLinearRmseArr.index(np.amin(bestLinearRmseArr))]\n",
    "    \n",
    "    bestLamda_p=bestLamdaArrPoly[bestPolynomialRmseArr.index(np.amin(bestPolynomialRmseArr))]\n",
    "    bestGamma_p=bestGammaArrPoly[bestPolynomialRmseArr.index(np.amin(bestPolynomialRmseArr))]\n",
    "    bestPower_p=bestPowerArrPoly[bestPolynomialRmseArr.index(np.amin(bestPolynomialRmseArr))]\n",
    "    \n",
    "    bestLamda_g=bestLambdaArrGuass[bestGaussianRmseArr.index(np.amin(bestGaussianRmseArr))]\n",
    "    bestGamma_g=bestGammaArrGuass[bestGaussianRmseArr.index(np.amin(bestGaussianRmseArr))]\n",
    "    \n",
    "    \n",
    "    \n",
    "    return bestLK,bestPK,bestGK,trainLinBest,trainPolyBest,trainGuassBest,bestLamda_l,bestLamda_p,bestGamma_p,bestLamda_g,bestGamma_g,bestPower_p"
   ]
  },
  {
   "cell_type": "markdown",
   "metadata": {},
   "source": [
    "We record the best parameters for respective kernel implementations and corresponding performance measure is recorded. In our implementation, we notice that the ridge regression with Polynomial kernel performes the best."
   ]
  },
  {
   "cell_type": "code",
   "execution_count": 895,
   "metadata": {},
   "outputs": [
    {
     "name": "stdout",
     "output_type": "stream",
     "text": [
      "The RMSE for Linear Kernel is  2.73923918148\n",
      "The RMSE for Polynomial Kernel is  2.67578826032\n",
      "The RMSE for Gaussian Kernel is  2.67756144334\n",
      "The best Lambda for Linear  0.5\n",
      "The best Lambda for Polynomial  0.01\n",
      "The best gamma for Polynomial  1\n",
      "The best Power(M) for Polynomial  2\n",
      "The best Lambda for Gaussian  0.01\n",
      "The best Gamma for Gaussian  0.5\n"
     ]
    }
   ],
   "source": [
    "bestLK,bestPK,bestGK,trainLinBest,trainPolyBest,trainGuassBest,bestLamda_l,bestLamda_p,bestGamma_p,bestLamda_g,bestGamma_g,bestPower_p=ComputePerformanceUsingKFold(X_train,y_train,kfl)\n",
    "\n",
    "y_predL=predictWithLinearKernel(X_test,y_test,bestLK,trainLinBest)\n",
    "y_predP=predictWithPolynomialKernel(X_test,y_test,bestPK,trainPolyBest,bestGamma_p)\n",
    "y_predG=predictUsingGaussianKernel(X_test,y_test,bestGK,trainGuassBest,bestGamma_g)\n",
    "\n",
    "rmseL = sqrt(mean_squared_error(y_test, y_predL))\n",
    "rmseP = sqrt(mean_squared_error(y_test, y_predP))\n",
    "rmseG = sqrt(mean_squared_error(y_test, y_predG))\n",
    "\n",
    "print 'The RMSE for Linear Kernel is ', rmseL \n",
    "print 'The RMSE for Polynomial Kernel is ', rmseP\n",
    "print 'The RMSE for Gaussian Kernel is ', rmseG\n",
    "\n",
    "print 'The best Lambda for Linear ',bestLamda_l\n",
    "print 'The best Lambda for Polynomial ',bestLamda_p\n",
    "print 'The best gamma for Polynomial ',bestGamma_p\n",
    "print 'The best Power(M) for Polynomial ',bestPower_p\n",
    "print 'The best Lambda for Gaussian ',bestLamda_g\n",
    "print 'The best Gamma for Gaussian ',bestGamma_g\n",
    "\n"
   ]
  },
  {
   "cell_type": "code",
   "execution_count": null,
   "metadata": {},
   "outputs": [],
   "source": []
  }
 ],
 "metadata": {
  "kernelspec": {
   "display_name": "Python 2",
   "language": "python",
   "name": "python2"
  },
  "language_info": {
   "codemirror_mode": {
    "name": "ipython",
    "version": 2
   },
   "file_extension": ".py",
   "mimetype": "text/x-python",
   "name": "python",
   "nbconvert_exporter": "python",
   "pygments_lexer": "ipython2",
   "version": "2.7.12"
  }
 },
 "nbformat": 4,
 "nbformat_minor": 2
}
